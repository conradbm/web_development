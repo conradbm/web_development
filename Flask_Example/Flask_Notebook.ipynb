{
 "cells": [
  {
   "cell_type": "markdown",
   "metadata": {
    "deletable": true,
    "editable": true
   },
   "source": [
    "<h2> The Basics of Flask Architecture</h2>\n",
    "<ul>\n",
    "<li>the app object routes the HTML to directories to handle HTML, AJAX, and PHP Requests</li>\n",
    "<li>In HTML: href=\"testHref\" --> in Python @app.route('/testHref')</li>\n",
    "<li>In AJAX: url:'/testURL' --> in Python @app.route('/testURL') will handle the AJAX request and can be recieved with the request object. This is basically the same as post and is used with all inputs as keys and their contents as values.  </li>\n",
    "<li>Use the example to sync the MySQL with the app</li>\n",
    "<li>Use a MySQL.connect().cursor().call_proc('yourProcedure', (item1, item2, item3)) // assuming its an insert procedure</li>\n",
    "<li>https://code.tutsplus.com/tutorials/creating-a-web-app-from-scratch-using-python-flask-and-mysql--cms-22972</li>\n",
    "</ul>"
   ]
  },
  {
   "cell_type": "code",
   "execution_count": 37,
   "metadata": {
    "collapsed": false,
    "deletable": true,
    "editable": true
   },
   "outputs": [],
   "source": [
    "from flask import Flask, render_template, request, json\n",
    "# on the fly ipython notebook package installer\n",
    "#!pip install flask-mysql\n",
    "from flask.ext.mysql import MySQL\n",
    "from werkzeug import generate_password_hash, check_password_hash\n",
    "\n",
    "app = Flask(__name__)\n"
   ]
  },
  {
   "cell_type": "code",
   "execution_count": null,
   "metadata": {
    "collapsed": false,
    "deletable": true,
    "editable": true
   },
   "outputs": [],
   "source": []
  },
  {
   "cell_type": "code",
   "execution_count": null,
   "metadata": {
    "collapsed": false,
    "deletable": true,
    "editable": true
   },
   "outputs": [],
   "source": []
  },
  {
   "cell_type": "code",
   "execution_count": 38,
   "metadata": {
    "collapsed": false,
    "deletable": true,
    "editable": true
   },
   "outputs": [],
   "source": [
    "@app.route('/showSignUp')\n",
    "def showSignUp():\n",
    "    return render_template('signup.html')\n",
    "\n",
    "@app.route('/signUp',methods=['POST'])\n",
    "def signUp():\n",
    " \n",
    "    # read the posted values from the UI\n",
    "    _name = request.form['inputName']\n",
    "    _email = request.form['inputEmail']\n",
    "    _password = request.form['inputPassword']\n",
    " \n",
    "    # validate the received values\n",
    "    if _name and _email and _password:\n",
    "        #return json.dumps({'html':'<span>All fields good !!</span>'})\n",
    "        \n",
    "        mysql = MySQL()\n",
    " \n",
    "        # MySQL configurations\n",
    "        app.config['MYSQL_DATABASE_USER'] = 'root'\n",
    "        app.config['MYSQL_DATABASE_PASSWORD'] = 'YOUR KNOW THE PW'\n",
    "        app.config['MYSQL_DATABASE_DB'] = 'BucketList'\n",
    "        app.config['MYSQL_DATABASE_HOST'] = 'localhost'\n",
    "        mysql.init_app(app)\n",
    "\n",
    "\n",
    "        # establish mysql connection\n",
    "        conn = mysql.connect()\n",
    "        cursor = conn.cursor()\n",
    "        _hashed_password = generate_password_hash(_password)\n",
    "        cursor.callproc('sp_createUser',(_name,_email,_hashed_password))\n",
    "\n",
    "\n",
    "        data = cursor.fetchall() \n",
    "        if len(data) is 0:\n",
    "            conn.commit()\n",
    "            return json.dumps({'message':'User created successfully !'})\n",
    "        else:\n",
    "            return json.dumps({'error':str(data[0])})\n",
    "        \n",
    "    else:\n",
    "        return json.dumps({'html':'<span>Enter the required fields</span>'})\n",
    "    \n",
    "    \n",
    "\n",
    "    \n",
    "@app.route(\"/\")\n",
    "def main():\n",
    "    return render_template('index.html')"
   ]
  },
  {
   "cell_type": "code",
   "execution_count": null,
   "metadata": {
    "collapsed": false,
    "deletable": true,
    "editable": true
   },
   "outputs": [
    {
     "name": "stderr",
     "output_type": "stream",
     "text": [
      " * Running on http://127.0.0.1:5000/ (Press CTRL+C to quit)\n",
      "127.0.0.1 - - [16/Apr/2017 17:54:02] \"GET / HTTP/1.1\" 200 -\n"
     ]
    }
   ],
   "source": [
    "if __name__ == \"__main__\":\n",
    "    app.run()"
   ]
  },
  {
   "cell_type": "code",
   "execution_count": null,
   "metadata": {
    "collapsed": true,
    "deletable": true,
    "editable": true
   },
   "outputs": [],
   "source": []
  }
 ],
 "metadata": {
  "kernelspec": {
   "display_name": "Python 2",
   "language": "python",
   "name": "python2"
  },
  "language_info": {
   "codemirror_mode": {
    "name": "ipython",
    "version": 2
   },
   "file_extension": ".py",
   "mimetype": "text/x-python",
   "name": "python",
   "nbconvert_exporter": "python",
   "pygments_lexer": "ipython2",
   "version": "2.7.10"
  }
 },
 "nbformat": 4,
 "nbformat_minor": 2
}
