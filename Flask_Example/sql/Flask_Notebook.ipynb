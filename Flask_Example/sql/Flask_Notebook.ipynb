{
 "cells": [
  {
   "cell_type": "code",
   "execution_count": 42,
   "metadata": {
    "collapsed": true
   },
   "outputs": [],
   "source": [
    "from flask import Flask, render_template, request, json\n",
    "app = Flask(__name__)\n"
   ]
  },
  {
   "cell_type": "code",
   "execution_count": 43,
   "metadata": {
    "collapsed": false
   },
   "outputs": [],
   "source": [
    "@app.route('/showSignUp')\n",
    "def showSignUp():\n",
    "    return render_template('sign-up.html')\n",
    "\n",
    "@app.route('/signUp',methods=['POST'])\n",
    "def signUp():\n",
    " \n",
    "    # read the posted values from the UI\n",
    "    _name = request.form['inputName']\n",
    "    _email = request.form['inputEmail']\n",
    "    _password = request.form['inputPassword']\n",
    " \n",
    "    # validate the received values\n",
    "    if _name and _email and _password:\n",
    "        return json.dumps({'html':'<span>All fields good !!</span>'})\n",
    "    else:\n",
    "        return json.dumps({'html':'<span>Enter the required fields</span>'})\n",
    "    \n",
    "@app.route(\"/\")\n",
    "def main():\n",
    "    return render_template('index.html')"
   ]
  },
  {
   "cell_type": "code",
   "execution_count": null,
   "metadata": {
    "collapsed": false
   },
   "outputs": [
    {
     "name": "stderr",
     "output_type": "stream",
     "text": [
      " * Running on http://127.0.0.1:5000/ (Press CTRL+C to quit)\n",
      "127.0.0.1 - - [16/Apr/2017 16:05:31] \"GET / HTTP/1.1\" 200 -\n",
      "127.0.0.1 - - [16/Apr/2017 16:05:32] \"GET /showSignUp HTTP/1.1\" 200 -\n",
      "127.0.0.1 - - [16/Apr/2017 16:05:32] \"GET /static/signup.css HTTP/1.1\" 404 -\n",
      "127.0.0.1 - - [16/Apr/2017 16:05:33] \"GET /static/signup.css HTTP/1.1\" 404 -\n",
      "127.0.0.1 - - [16/Apr/2017 16:05:37] \"POST /signUp HTTP/1.1\" 200 -\n",
      "127.0.0.1 - - [16/Apr/2017 16:05:39] \"POST /signUp HTTP/1.1\" 200 -\n"
     ]
    }
   ],
   "source": [
    "if __name__ == \"__main__\":\n",
    "    app.run()"
   ]
  },
  {
   "cell_type": "code",
   "execution_count": null,
   "metadata": {
    "collapsed": true
   },
   "outputs": [],
   "source": []
  }
 ],
 "metadata": {
  "kernelspec": {
   "display_name": "Python 2",
   "language": "python",
   "name": "python2"
  },
  "language_info": {
   "codemirror_mode": {
    "name": "ipython",
    "version": 2
   },
   "file_extension": ".py",
   "mimetype": "text/x-python",
   "name": "python",
   "nbconvert_exporter": "python",
   "pygments_lexer": "ipython2",
   "version": "2.7.10"
  }
 },
 "nbformat": 4,
 "nbformat_minor": 2
}
